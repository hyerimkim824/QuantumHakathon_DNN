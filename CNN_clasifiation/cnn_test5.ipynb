{
 "cells": [
  {
   "cell_type": "code",
   "execution_count": 1,
   "metadata": {},
   "outputs": [
    {
     "data": {
      "text/plain": [
       "(400, 16, 16)"
      ]
     },
     "execution_count": 1,
     "metadata": {},
     "output_type": "execute_result"
    }
   ],
   "source": [
    "import numpy as np\n",
    "\n",
    "sample1 = np.load('Dataset1.npz')\n",
    "sample2 = np.load('Dataset2.npz')\n",
    "sample3 = np.load('Dataset3.npz')\n",
    "sample4 = np.load('Dataset3.npz')\n",
    "sample5 = np.load('Dataset3.npz')\n",
    "sample6 = np.load('Dataset1.npz')\n",
    "sample7 = np.load('Dataset2.npz')\n",
    "sample8 = np.load('Dataset3.npz')\n",
    "sample9 = np.load('Dataset3.npz')\n",
    "sample10 = np.load('Dataset3.npz')\n",
    "sample11 = np.load('Dataset1.npz')\n",
    "sample12 = np.load('Dataset2.npz')\n",
    "sample13 = np.load('Dataset3.npz')\n",
    "sample14 = np.load('Dataset3.npz')\n",
    "sample15 = np.load('Dataset3.npz')\n",
    "sample16 = np.load('Dataset1.npz')\n",
    "sample17 = np.load('Dataset2.npz')\n",
    "sample18 = np.load('Dataset3.npz')\n",
    "sample19 = np.load('Dataset3.npz')\n",
    "sample20 = np.load('Dataset3.npz')\n",
    "sample21 = np.load('Dataset1.npz')\n",
    "sample22 = np.load('Dataset2.npz')\n",
    "sample23 = np.load('Dataset3.npz')\n",
    "sample24 = np.load('Dataset3.npz')\n",
    "sample25 = np.load('Dataset3.npz')\n",
    "sample26 = np.load('Dataset3.npz')\n",
    "sample27 = np.load('Dataset3.npz')\n",
    "sample28 = np.load('Dataset1.npz')\n",
    "sample29 = np.load('Dataset2.npz')\n",
    "sample30 = np.load('Dataset3.npz')\n",
    "sample31 = np.load('Dataset3.npz')\n",
    "sample32 = np.load('Dataset3.npz')\n",
    "sample18 = np.load('Dataset3.npz')\n",
    "sample19 = np.load('Dataset3.npz')\n",
    "sample20 = np.load('Dataset3.npz')\n",
    "sample21 = np.load('Dataset1.npz')\n",
    "sample22 = np.load('Dataset2.npz')\n",
    "sample23 = np.load('Dataset3.npz')\n",
    "sample24 = np.load('Dataset3.npz')\n",
    "sample25 = np.load('Dataset3.npz')\n",
    "\n",
    "\n",
    "\n",
    "a = np.concatenate((sample1['data'],sample2['data'],sample1['data'],sample2['data']),axis=0)\n",
    "np.shape(a)"
   ]
  },
  {
   "cell_type": "code",
   "execution_count": null,
   "metadata": {},
   "outputs": [],
   "source": []
  }
 ],
 "metadata": {
  "kernelspec": {
   "display_name": "Python 3",
   "language": "python",
   "name": "python3"
  },
  "language_info": {
   "codemirror_mode": {
    "name": "ipython",
    "version": 3
   },
   "file_extension": ".py",
   "mimetype": "text/x-python",
   "name": "python",
   "nbconvert_exporter": "python",
   "pygments_lexer": "ipython3",
   "version": "3.6.4"
  }
 },
 "nbformat": 4,
 "nbformat_minor": 2
}
