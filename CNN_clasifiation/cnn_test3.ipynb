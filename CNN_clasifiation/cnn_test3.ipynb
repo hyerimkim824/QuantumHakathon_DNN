{
 "cells": [
  {
   "cell_type": "code",
   "execution_count": null,
   "metadata": {},
   "outputs": [],
   "source": [
    "# import required libraries\n",
    "import numpy as np\n",
    "from PIL import Image as im\n",
    "  \n",
    "# define a main function\n",
    "def main():\n",
    "  \n",
    "    # create a numpy array from scratch\n",
    "    # using arange function.\n",
    "    # 1024x720 = 737280 is the amount \n",
    "    # of pixels.\n",
    "    # np.uint8 is a data type containing\n",
    "    # numbers ranging from 0 to 255 \n",
    "    # and no non-negative integers\n",
    "    array = np.arange(0, 737280, 1, np.uint8)\n",
    "      \n",
    "    # check type of array\n",
    "    print(type(array))\n",
    "      \n",
    "    # our array will be of width \n",
    "    # 737280 pixels That means it \n",
    "    # will be a long dark line\n",
    "    print(array.shape)\n",
    "      \n",
    "    # Reshape the array into a \n",
    "    # familiar resoluition\n",
    "    array = np.reshape(array, (1024, 720))\n",
    "      \n",
    "    # show the shape of the array\n",
    "    print(array.shape)\n",
    "  \n",
    "    # show the array\n",
    "    print(array)\n",
    "      \n",
    "    # creating image object of\n",
    "    # above array\n",
    "    data = im.fromarray(array)\n",
    "      \n",
    "    # saving the final output \n",
    "    # as a PNG file\n",
    "    data.save('gfg_dummy_pic.jpg')"
   ]
  }
 ],
 "metadata": {
  "kernelspec": {
   "display_name": "Python 3",
   "language": "python",
   "name": "python3"
  },
  "language_info": {
   "codemirror_mode": {
    "name": "ipython",
    "version": 3
   },
   "file_extension": ".py",
   "mimetype": "text/x-python",
   "name": "python",
   "nbconvert_exporter": "python",
   "pygments_lexer": "ipython3",
   "version": "3.6.4"
  }
 },
 "nbformat": 4,
 "nbformat_minor": 2
}
