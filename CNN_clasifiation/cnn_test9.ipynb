{
 "cells": [
  {
   "cell_type": "code",
   "execution_count": 82,
   "metadata": {},
   "outputs": [],
   "source": [
    "import os\n",
    "from os.path import isfile, join\n",
    "import PIL.Image as pilimg\n",
    "import numpy as np\n",
    "\n",
    "output = []\n",
    "\n",
    "##path = directory path##\n",
    "class ImgToArr:    \n",
    "    def __init__(self,path,row,length):\n",
    "        \n",
    "        #parameter       \n",
    "        self.path= path\n",
    "        self.row = row\n",
    "        self.length = length\n",
    "    \n",
    "    def threshold(self,t,P=False):\n",
    "        \n",
    "         \n",
    "        if P== False:\n",
    "            \n",
    "            num = 0\n",
    "            target = []\n",
    "            \n",
    "            while num <self.length:\n",
    "                \n",
    "                self.dummy = np.zeros([self.row,self.row])    \n",
    "                n = num+1\n",
    "                a = pilimg.open(self.path+str(n)+\".jpg\")\n",
    "                array = np.array(a)\n",
    "                array = array[1:,1:]\n",
    "            \n",
    "               \n",
    "                for i in range(16):\n",
    "                    for j in range(15):\n",
    "                        \n",
    "                        self.dummy[i,0]=1\n",
    "            \n",
    "                        if array[i,j]>=128:\n",
    "                            self.dummy[i,j+1] = 0\n",
    "            \n",
    "                        else:\n",
    "                            self.dummy[i,j+1]=1\n",
    "                    \n",
    "                            \n",
    "                #print(dummy)\n",
    "                \n",
    "                output.append(self.dummy)\n",
    "            \n",
    "                #print(output)\n",
    "                target.append([t])\n",
    "                num = num+1\n",
    "               \n",
    "                \n",
    "            data = np.stack(output,axis=0)\n",
    "            target = np.stack(target,axis = 0)\n",
    "        \n",
    "        return np.savez(\"HG_dataset_noise_P\"+str(t)+\".npz\",data = data, target = target)\n",
    "        \n",
    "p='C:/Users/khl36/Hackathon/imgdata/HG/n=5,m=5 no.'\n",
    "\n",
    "img = ImgToArr(p,16,100)\n",
    "result = img.threshold(35)"
   ]
  },
  {
   "cell_type": "code",
   "execution_count": 84,
   "metadata": {},
   "outputs": [
    {
     "name": "stdout",
     "output_type": "stream",
     "text": [
      "[[1. 1. 1. 1. 1. 1. 1. 1. 1. 1. 1. 1. 1. 1. 1. 1.]\n",
      " [1. 1. 1. 1. 1. 1. 1. 1. 1. 1. 1. 1. 1. 1. 1. 1.]\n",
      " [1. 1. 1. 1. 1. 1. 1. 1. 1. 1. 1. 1. 0. 1. 1. 1.]\n",
      " [1. 1. 1. 1. 1. 1. 1. 1. 1. 1. 1. 1. 0. 1. 1. 1.]\n",
      " [1. 1. 1. 1. 1. 1. 1. 1. 1. 1. 0. 1. 1. 0. 1. 1.]\n",
      " [1. 1. 1. 1. 1. 1. 1. 0. 1. 1. 1. 1. 1. 1. 1. 1.]\n",
      " [1. 1. 1. 1. 1. 1. 1. 1. 1. 1. 1. 1. 0. 1. 1. 1.]\n",
      " [1. 1. 1. 1. 1. 1. 1. 1. 0. 0. 1. 0. 1. 1. 1. 1.]\n",
      " [1. 1. 1. 1. 1. 0. 1. 1. 0. 0. 1. 1. 0. 1. 1. 1.]\n",
      " [1. 1. 1. 0. 1. 1. 0. 1. 1. 1. 1. 0. 1. 1. 0. 1.]\n",
      " [1. 1. 1. 1. 1. 1. 1. 0. 1. 1. 0. 0. 1. 1. 0. 1.]\n",
      " [1. 1. 1. 1. 1. 1. 1. 1. 1. 1. 1. 1. 1. 1. 1. 1.]\n",
      " [1. 1. 1. 1. 1. 1. 1. 1. 1. 1. 1. 1. 1. 1. 1. 1.]\n",
      " [1. 1. 1. 1. 1. 1. 1. 1. 1. 1. 1. 0. 1. 1. 1. 1.]\n",
      " [1. 1. 1. 1. 1. 1. 1. 1. 1. 1. 1. 1. 1. 1. 1. 1.]\n",
      " [1. 1. 1. 1. 1. 1. 1. 1. 1. 1. 1. 1. 1. 1. 1. 1.]]\n"
     ]
    }
   ],
   "source": [
    "data = np.load('Dataset_noise_P3.npz')\n",
    "print(data['data'][2])"
   ]
  },
  {
   "cell_type": "code",
   "execution_count": null,
   "metadata": {},
   "outputs": [],
   "source": []
  }
 ],
 "metadata": {
  "kernelspec": {
   "display_name": "Python 3",
   "language": "python",
   "name": "python3"
  },
  "language_info": {
   "codemirror_mode": {
    "name": "ipython",
    "version": 3
   },
   "file_extension": ".py",
   "mimetype": "text/x-python",
   "name": "python",
   "nbconvert_exporter": "python",
   "pygments_lexer": "ipython3",
   "version": "3.6.4"
  }
 },
 "nbformat": 4,
 "nbformat_minor": 2
}
