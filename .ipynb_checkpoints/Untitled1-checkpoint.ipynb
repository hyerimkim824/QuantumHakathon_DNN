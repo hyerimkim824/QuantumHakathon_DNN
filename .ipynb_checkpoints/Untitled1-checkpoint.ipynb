{
 "cells": [
  {
   "cell_type": "code",
   "execution_count": 1,
   "metadata": {},
   "outputs": [],
   "source": [
    "%matplotlib inline\n",
    "import sys,os\n",
    "sys.path.append(os.pardir)\n",
    "import matplotlib\n",
    "import matplotlib.pyplot as plt\n",
    "import torch\n",
    "from torch.utils.data import Dataset, DataLoader\n",
    "import numpy as np\n",
    "import torchvision\n",
    "from torchvision import transforms"
   ]
  },
  {
   "cell_type": "code",
   "execution_count": 2,
   "metadata": {},
   "outputs": [],
   "source": [
    "trans = transforms.Compose([transforms.Resize((16,16)),\n",
    "                            transforms.ToTensor(),\n",
    "                            transforms.Normalize((0.5,0.5,0.5),\n",
    "                            (0.5,0.5,0.5))])\n",
    "trainset = torchvision.datasets.ImageFolder(root=r\"C:/Users/khl36/Hackathon/imgdata\",\n",
    "                                           transform = trans)"
   ]
  },
  {
   "cell_type": "code",
   "execution_count": 3,
   "metadata": {},
   "outputs": [
    {
     "data": {
      "text/plain": [
       "(tensor([[[ 1.0000,  1.0000,  1.0000,  1.0000,  1.0000,  1.0000,  1.0000,\n",
       "            1.0000,  1.0000,  1.0000,  1.0000,  1.0000,  1.0000,  1.0000,\n",
       "            1.0000,  1.0000],\n",
       "          [ 1.0000,  1.0000,  1.0000,  1.0000,  1.0000,  0.9843,  1.0000,\n",
       "            1.0000,  1.0000,  1.0000,  0.9843,  1.0000,  1.0000,  1.0000,\n",
       "            1.0000,  1.0000],\n",
       "          [ 1.0000,  1.0000,  1.0000,  1.0000,  1.0000,  1.0000,  1.0000,\n",
       "            1.0000,  1.0000,  1.0000,  1.0000,  1.0000,  1.0000,  1.0000,\n",
       "            1.0000,  1.0000],\n",
       "          [ 1.0000,  1.0000,  0.9451,  1.0000,  1.0000,  1.0000,  1.0000,\n",
       "            1.0000,  1.0000,  1.0000,  1.0000,  1.0000,  1.0000,  0.9451,\n",
       "            1.0000,  1.0000],\n",
       "          [ 1.0000,  1.0000,  1.0000,  1.0000,  0.8275,  1.0000,  1.0000,\n",
       "            1.0000,  1.0000,  1.0000,  1.0000,  0.8275,  1.0000,  1.0000,\n",
       "            1.0000,  1.0000],\n",
       "          [ 1.0000,  1.0000,  0.9843,  0.8196, -0.7804, -0.9451, -1.0000,\n",
       "           -1.0000, -1.0000, -1.0000, -0.9451, -0.7804,  0.8196,  0.9843,\n",
       "            1.0000,  1.0000],\n",
       "          [ 1.0000,  1.0000,  1.0000,  1.0000, -0.9686, -1.0000, -1.0000,\n",
       "           -0.9529, -0.9529, -1.0000, -1.0000, -0.9686,  1.0000,  1.0000,\n",
       "            1.0000,  1.0000],\n",
       "          [ 1.0000,  1.0000,  1.0000,  1.0000, -1.0000, -1.0000, -0.9608,\n",
       "           -1.0000, -1.0000, -0.9608, -1.0000, -1.0000,  1.0000,  1.0000,\n",
       "            1.0000,  1.0000],\n",
       "          [ 1.0000,  1.0000,  1.0000,  1.0000, -1.0000, -0.9765, -1.0000,\n",
       "           -0.9843, -0.9843, -1.0000, -0.9765, -1.0000,  1.0000,  1.0000,\n",
       "            1.0000,  1.0000],\n",
       "          [ 1.0000,  1.0000,  1.0000,  1.0000, -1.0000, -0.9765, -0.9843,\n",
       "           -1.0000, -1.0000, -0.9843, -0.9765, -1.0000,  1.0000,  1.0000,\n",
       "            1.0000,  1.0000],\n",
       "          [ 1.0000,  1.0000,  1.0000,  1.0000, -1.0000, -1.0000, -0.9765,\n",
       "           -0.9765, -0.9765, -0.9765, -1.0000, -1.0000,  1.0000,  1.0000,\n",
       "            1.0000,  1.0000],\n",
       "          [ 1.0000,  1.0000,  1.0000,  0.8588, -0.8039, -1.0000, -1.0000,\n",
       "           -1.0000, -1.0000, -1.0000, -1.0000, -0.8039,  0.8588,  1.0000,\n",
       "            1.0000,  1.0000],\n",
       "          [ 1.0000,  1.0000,  1.0000,  1.0000,  0.8588,  1.0000,  1.0000,\n",
       "            1.0000,  1.0000,  1.0000,  1.0000,  0.8588,  1.0000,  1.0000,\n",
       "            1.0000,  1.0000],\n",
       "          [ 1.0000,  1.0000,  0.9843,  1.0000,  1.0000,  1.0000,  1.0000,\n",
       "            1.0000,  1.0000,  1.0000,  1.0000,  1.0000,  1.0000,  0.9843,\n",
       "            1.0000,  1.0000],\n",
       "          [ 1.0000,  1.0000,  1.0000,  1.0000,  1.0000,  1.0000,  1.0000,\n",
       "            1.0000,  1.0000,  1.0000,  1.0000,  1.0000,  1.0000,  1.0000,\n",
       "            1.0000,  1.0000],\n",
       "          [ 1.0000,  1.0000,  1.0000,  1.0000,  1.0000,  1.0000,  1.0000,\n",
       "            1.0000,  1.0000,  1.0000,  1.0000,  1.0000,  1.0000,  1.0000,\n",
       "            1.0000,  1.0000]],\n",
       " \n",
       "         [[ 1.0000,  1.0000,  1.0000,  1.0000,  1.0000,  1.0000,  1.0000,\n",
       "            1.0000,  1.0000,  1.0000,  1.0000,  1.0000,  1.0000,  1.0000,\n",
       "            1.0000,  1.0000],\n",
       "          [ 1.0000,  1.0000,  1.0000,  1.0000,  1.0000,  0.9843,  1.0000,\n",
       "            1.0000,  1.0000,  1.0000,  0.9843,  1.0000,  1.0000,  1.0000,\n",
       "            1.0000,  1.0000],\n",
       "          [ 1.0000,  1.0000,  1.0000,  1.0000,  1.0000,  1.0000,  1.0000,\n",
       "            1.0000,  1.0000,  1.0000,  1.0000,  1.0000,  1.0000,  1.0000,\n",
       "            1.0000,  1.0000],\n",
       "          [ 1.0000,  1.0000,  0.9451,  1.0000,  1.0000,  1.0000,  1.0000,\n",
       "            1.0000,  1.0000,  1.0000,  1.0000,  1.0000,  1.0000,  0.9451,\n",
       "            1.0000,  1.0000],\n",
       "          [ 1.0000,  1.0000,  1.0000,  1.0000,  0.8275,  1.0000,  1.0000,\n",
       "            1.0000,  1.0000,  1.0000,  1.0000,  0.8275,  1.0000,  1.0000,\n",
       "            1.0000,  1.0000],\n",
       "          [ 1.0000,  1.0000,  0.9843,  0.8196, -0.7804, -0.9451, -1.0000,\n",
       "           -1.0000, -1.0000, -1.0000, -0.9451, -0.7804,  0.8196,  0.9843,\n",
       "            1.0000,  1.0000],\n",
       "          [ 1.0000,  1.0000,  1.0000,  1.0000, -0.9686, -1.0000, -1.0000,\n",
       "           -0.9529, -0.9529, -1.0000, -1.0000, -0.9686,  1.0000,  1.0000,\n",
       "            1.0000,  1.0000],\n",
       "          [ 1.0000,  1.0000,  1.0000,  1.0000, -1.0000, -1.0000, -0.9608,\n",
       "           -1.0000, -1.0000, -0.9608, -1.0000, -1.0000,  1.0000,  1.0000,\n",
       "            1.0000,  1.0000],\n",
       "          [ 1.0000,  1.0000,  1.0000,  1.0000, -1.0000, -0.9765, -1.0000,\n",
       "           -0.9843, -0.9843, -1.0000, -0.9765, -1.0000,  1.0000,  1.0000,\n",
       "            1.0000,  1.0000],\n",
       "          [ 1.0000,  1.0000,  1.0000,  1.0000, -1.0000, -0.9765, -0.9843,\n",
       "           -1.0000, -1.0000, -0.9843, -0.9765, -1.0000,  1.0000,  1.0000,\n",
       "            1.0000,  1.0000],\n",
       "          [ 1.0000,  1.0000,  1.0000,  1.0000, -1.0000, -1.0000, -0.9765,\n",
       "           -0.9765, -0.9765, -0.9765, -1.0000, -1.0000,  1.0000,  1.0000,\n",
       "            1.0000,  1.0000],\n",
       "          [ 1.0000,  1.0000,  1.0000,  0.8588, -0.8039, -1.0000, -1.0000,\n",
       "           -1.0000, -1.0000, -1.0000, -1.0000, -0.8039,  0.8588,  1.0000,\n",
       "            1.0000,  1.0000],\n",
       "          [ 1.0000,  1.0000,  1.0000,  1.0000,  0.8588,  1.0000,  1.0000,\n",
       "            1.0000,  1.0000,  1.0000,  1.0000,  0.8588,  1.0000,  1.0000,\n",
       "            1.0000,  1.0000],\n",
       "          [ 1.0000,  1.0000,  0.9843,  1.0000,  1.0000,  1.0000,  1.0000,\n",
       "            1.0000,  1.0000,  1.0000,  1.0000,  1.0000,  1.0000,  0.9843,\n",
       "            1.0000,  1.0000],\n",
       "          [ 1.0000,  1.0000,  1.0000,  1.0000,  1.0000,  1.0000,  1.0000,\n",
       "            1.0000,  1.0000,  1.0000,  1.0000,  1.0000,  1.0000,  1.0000,\n",
       "            1.0000,  1.0000],\n",
       "          [ 1.0000,  1.0000,  1.0000,  1.0000,  1.0000,  1.0000,  1.0000,\n",
       "            1.0000,  1.0000,  1.0000,  1.0000,  1.0000,  1.0000,  1.0000,\n",
       "            1.0000,  1.0000]],\n",
       " \n",
       "         [[ 1.0000,  1.0000,  1.0000,  1.0000,  1.0000,  1.0000,  1.0000,\n",
       "            1.0000,  1.0000,  1.0000,  1.0000,  1.0000,  1.0000,  1.0000,\n",
       "            1.0000,  1.0000],\n",
       "          [ 1.0000,  1.0000,  1.0000,  1.0000,  1.0000,  0.9843,  1.0000,\n",
       "            1.0000,  1.0000,  1.0000,  0.9843,  1.0000,  1.0000,  1.0000,\n",
       "            1.0000,  1.0000],\n",
       "          [ 1.0000,  1.0000,  1.0000,  1.0000,  1.0000,  1.0000,  1.0000,\n",
       "            1.0000,  1.0000,  1.0000,  1.0000,  1.0000,  1.0000,  1.0000,\n",
       "            1.0000,  1.0000],\n",
       "          [ 1.0000,  1.0000,  0.9451,  1.0000,  1.0000,  1.0000,  1.0000,\n",
       "            1.0000,  1.0000,  1.0000,  1.0000,  1.0000,  1.0000,  0.9451,\n",
       "            1.0000,  1.0000],\n",
       "          [ 1.0000,  1.0000,  1.0000,  1.0000,  0.8275,  1.0000,  1.0000,\n",
       "            1.0000,  1.0000,  1.0000,  1.0000,  0.8275,  1.0000,  1.0000,\n",
       "            1.0000,  1.0000],\n",
       "          [ 1.0000,  1.0000,  0.9843,  0.8196, -0.7804, -0.9451, -1.0000,\n",
       "           -1.0000, -1.0000, -1.0000, -0.9451, -0.7804,  0.8196,  0.9843,\n",
       "            1.0000,  1.0000],\n",
       "          [ 1.0000,  1.0000,  1.0000,  1.0000, -0.9686, -1.0000, -1.0000,\n",
       "           -0.9529, -0.9529, -1.0000, -1.0000, -0.9686,  1.0000,  1.0000,\n",
       "            1.0000,  1.0000],\n",
       "          [ 1.0000,  1.0000,  1.0000,  1.0000, -1.0000, -1.0000, -0.9608,\n",
       "           -1.0000, -1.0000, -0.9608, -1.0000, -1.0000,  1.0000,  1.0000,\n",
       "            1.0000,  1.0000],\n",
       "          [ 1.0000,  1.0000,  1.0000,  1.0000, -1.0000, -0.9765, -1.0000,\n",
       "           -0.9843, -0.9843, -1.0000, -0.9765, -1.0000,  1.0000,  1.0000,\n",
       "            1.0000,  1.0000],\n",
       "          [ 1.0000,  1.0000,  1.0000,  1.0000, -1.0000, -0.9765, -0.9843,\n",
       "           -1.0000, -1.0000, -0.9843, -0.9765, -1.0000,  1.0000,  1.0000,\n",
       "            1.0000,  1.0000],\n",
       "          [ 1.0000,  1.0000,  1.0000,  1.0000, -1.0000, -1.0000, -0.9765,\n",
       "           -0.9765, -0.9765, -0.9765, -1.0000, -1.0000,  1.0000,  1.0000,\n",
       "            1.0000,  1.0000],\n",
       "          [ 1.0000,  1.0000,  1.0000,  0.8588, -0.8039, -1.0000, -1.0000,\n",
       "           -1.0000, -1.0000, -1.0000, -1.0000, -0.8039,  0.8588,  1.0000,\n",
       "            1.0000,  1.0000],\n",
       "          [ 1.0000,  1.0000,  1.0000,  1.0000,  0.8588,  1.0000,  1.0000,\n",
       "            1.0000,  1.0000,  1.0000,  1.0000,  0.8588,  1.0000,  1.0000,\n",
       "            1.0000,  1.0000],\n",
       "          [ 1.0000,  1.0000,  0.9843,  1.0000,  1.0000,  1.0000,  1.0000,\n",
       "            1.0000,  1.0000,  1.0000,  1.0000,  1.0000,  1.0000,  0.9843,\n",
       "            1.0000,  1.0000],\n",
       "          [ 1.0000,  1.0000,  1.0000,  1.0000,  1.0000,  1.0000,  1.0000,\n",
       "            1.0000,  1.0000,  1.0000,  1.0000,  1.0000,  1.0000,  1.0000,\n",
       "            1.0000,  1.0000],\n",
       "          [ 1.0000,  1.0000,  1.0000,  1.0000,  1.0000,  1.0000,  1.0000,\n",
       "            1.0000,  1.0000,  1.0000,  1.0000,  1.0000,  1.0000,  1.0000,\n",
       "            1.0000,  1.0000]]]), 0)"
      ]
     },
     "execution_count": 3,
     "metadata": {},
     "output_type": "execute_result"
    }
   ],
   "source": [
    "trainset.__getitem__(0)"
   ]
  },
  {
   "cell_type": "code",
   "execution_count": 4,
   "metadata": {},
   "outputs": [
    {
     "name": "stdout",
     "output_type": "stream",
     "text": [
      "tensor([0])\n"
     ]
    }
   ],
   "source": [
    "trainloader = DataLoader(trainset,batch_size=1,shuffle=False)\n",
    "dataiter = iter(trainloader)\n",
    "images, labels = dataiter.next()\n",
    "print(labels)"
   ]
  },
  {
   "cell_type": "code",
   "execution_count": 5,
   "metadata": {},
   "outputs": [
    {
     "name": "stdout",
     "output_type": "stream",
     "text": [
      "torch.Size([1, 3, 16, 16])\n",
      "(3, 16, 16)\n",
      "(16, 16, 3)\n",
      "torch.Size([1, 3, 16, 16])\n"
     ]
    },
    {
     "data": {
      "image/png": "[encoded data removed]",
      "text/plain": [
       "<Figure size 432x288 with 1 Axes>"
      ]
     },
     "metadata": {},
     "output_type": "display_data"
    }
   ],
   "source": [
    "def imshow(img):\n",
    "    img = img/2+0.5\n",
    "    np_img = img.numpy()\n",
    "    plt.imshow(np.transpose(np_img,(1,2,0)))\n",
    "\n",
    "    print(np_img.shape)\n",
    "    print((np.transpose(np_img,(1,2,0))).shape)\n",
    "    \n",
    "\n",
    "print(images.shape)\n",
    "imshow(torchvision.utils.make_grid(images, nrow=4))\n",
    "print(images.shape)\n",
    "\n",
    "\n"
   ]
  },
  {
   "cell_type": "code",
   "execution_count": 6,
   "metadata": {},
   "outputs": [
    {
     "name": "stdout",
     "output_type": "stream",
     "text": [
      "(4, 4, 1)\n",
      "(4, 4)\n"
     ]
    },
    {
     "ename": "NameError",
     "evalue": "name 'Image' is not defined",
     "output_type": "error",
     "traceback": [
      "\u001b[1;31m---------------------------------------------------------------------------\u001b[0m",
      "\u001b[1;31mNameError\u001b[0m                                 Traceback (most recent call last)",
      "\u001b[1;32m<ipython-input-6-48dcea3b5981>\u001b[0m in \u001b[0;36m<module>\u001b[1;34m()\u001b[0m\n\u001b[0;32m      5\u001b[0m \u001b[0marr\u001b[0m \u001b[1;33m=\u001b[0m \u001b[0marr\u001b[0m\u001b[1;33m.\u001b[0m\u001b[0mreshape\u001b[0m\u001b[1;33m(\u001b[0m\u001b[1;36m4\u001b[0m\u001b[1;33m,\u001b[0m \u001b[1;36m4\u001b[0m\u001b[1;33m)\u001b[0m\u001b[1;33m\u001b[0m\u001b[0m\n\u001b[0;32m      6\u001b[0m \u001b[0mprint\u001b[0m\u001b[1;33m(\u001b[0m\u001b[0marr\u001b[0m\u001b[1;33m.\u001b[0m\u001b[0mshape\u001b[0m\u001b[1;33m)\u001b[0m \u001b[1;31m#(5, 5)\u001b[0m\u001b[1;33m\u001b[0m\u001b[0m\n\u001b[1;32m----> 7\u001b[1;33m \u001b[0mimage\u001b[0m \u001b[1;33m=\u001b[0m \u001b[0mImage\u001b[0m\u001b[1;33m.\u001b[0m\u001b[0mfromarray\u001b[0m\u001b[1;33m(\u001b[0m\u001b[0marr\u001b[0m\u001b[1;33m.\u001b[0m\u001b[0mastype\u001b[0m\u001b[1;33m(\u001b[0m\u001b[1;34m'uint8'\u001b[0m\u001b[1;33m)\u001b[0m\u001b[1;33m,\u001b[0m \u001b[1;34m'L'\u001b[0m\u001b[1;33m)\u001b[0m \u001b[1;31m#greyscale image\u001b[0m\u001b[1;33m\u001b[0m\u001b[0m\n\u001b[0m\u001b[0;32m      8\u001b[0m \u001b[0mimage\u001b[0m \u001b[1;33m=\u001b[0m \u001b[0mimage\u001b[0m\u001b[1;33m.\u001b[0m\u001b[0mconvert\u001b[0m\u001b[1;33m(\u001b[0m\u001b[1;34m'L'\u001b[0m\u001b[1;33m)\u001b[0m \u001b[1;31m#'L': greyscale,\u001b[0m\u001b[1;33m\u001b[0m\u001b[0m\n\u001b[0;32m      9\u001b[0m \u001b[1;33m\u001b[0m\u001b[0m\n",
      "\u001b[1;31mNameError\u001b[0m: name 'Image' is not defined"
     ]
    }
   ],
   "source": [
    "x_train = np.array([[[0],[255],[255],[0]],[[0],[255],[255],[0]],[[0],[255],[255],[0]],[[0],[255],[255],[0]]])\n",
    "\n",
    "arr = x_train\n",
    "print(arr.shape)\n",
    "arr = arr.reshape(4, 4)\n",
    "print(arr.shape) #(5, 5)\n",
    "image = Image.fromarray(arr.astype('uint8'), 'L') #greyscale image\n",
    "image = image.convert('L') #'L': greyscale, \n",
    "\n",
    "image.show()\n"
   ]
  },
  {
   "cell_type": "code",
   "execution_count": 7,
   "metadata": {},
   "outputs": [
    {
     "ename": "FileNotFoundError",
     "evalue": "[Errno 2] No such file or directory: 'C:/Users/khl36/Hackathon/imgdata/diamond/4.jpg'",
     "output_type": "error",
     "traceback": [
      "\u001b[1;31m---------------------------------------------------------------------------\u001b[0m",
      "\u001b[1;31mFileNotFoundError\u001b[0m                         Traceback (most recent call last)",
      "\u001b[1;32m<ipython-input-7-733171ce29f1>\u001b[0m in \u001b[0;36m<module>\u001b[1;34m()\u001b[0m\n\u001b[0;32m      2\u001b[0m \u001b[1;32mimport\u001b[0m \u001b[0mnumpy\u001b[0m \u001b[1;32mas\u001b[0m \u001b[0mnp\u001b[0m\u001b[1;33m\u001b[0m\u001b[0m\n\u001b[0;32m      3\u001b[0m \u001b[1;33m\u001b[0m\u001b[0m\n\u001b[1;32m----> 4\u001b[1;33m \u001b[0ma\u001b[0m \u001b[1;33m=\u001b[0m \u001b[0mpilimg\u001b[0m\u001b[1;33m.\u001b[0m\u001b[0mopen\u001b[0m\u001b[1;33m(\u001b[0m\u001b[1;34mr'C:/Users/khl36/Hackathon/imgdata/diamond/4.jpg'\u001b[0m\u001b[1;33m)\u001b[0m\u001b[1;33m\u001b[0m\u001b[0m\n\u001b[0m\u001b[0;32m      5\u001b[0m \u001b[0mar\u001b[0m \u001b[1;33m=\u001b[0m \u001b[0mnp\u001b[0m\u001b[1;33m.\u001b[0m\u001b[0marray\u001b[0m\u001b[1;33m(\u001b[0m\u001b[0ma\u001b[0m\u001b[1;33m)\u001b[0m\u001b[1;33m\u001b[0m\u001b[0m\n\u001b[0;32m      6\u001b[0m \u001b[0mprint\u001b[0m\u001b[1;33m(\u001b[0m\u001b[0mnp\u001b[0m\u001b[1;33m.\u001b[0m\u001b[0mshape\u001b[0m\u001b[1;33m(\u001b[0m\u001b[0mar\u001b[0m\u001b[1;33m)\u001b[0m\u001b[1;33m)\u001b[0m\u001b[1;33m\u001b[0m\u001b[0m\n",
      "\u001b[1;32mC:\\Aanaconda\\lib\\site-packages\\PIL\\Image.py\u001b[0m in \u001b[0;36mopen\u001b[1;34m(fp, mode)\u001b[0m\n\u001b[0;32m   2632\u001b[0m \u001b[1;33m\u001b[0m\u001b[0m\n\u001b[0;32m   2633\u001b[0m     \u001b[1;32mif\u001b[0m \u001b[0mfilename\u001b[0m\u001b[1;33m:\u001b[0m\u001b[1;33m\u001b[0m\u001b[0m\n\u001b[1;32m-> 2634\u001b[1;33m         \u001b[0mfp\u001b[0m \u001b[1;33m=\u001b[0m \u001b[0mbuiltins\u001b[0m\u001b[1;33m.\u001b[0m\u001b[0mopen\u001b[0m\u001b[1;33m(\u001b[0m\u001b[0mfilename\u001b[0m\u001b[1;33m,\u001b[0m \u001b[1;34m\"rb\"\u001b[0m\u001b[1;33m)\u001b[0m\u001b[1;33m\u001b[0m\u001b[0m\n\u001b[0m\u001b[0;32m   2635\u001b[0m         \u001b[0mexclusive_fp\u001b[0m \u001b[1;33m=\u001b[0m \u001b[1;32mTrue\u001b[0m\u001b[1;33m\u001b[0m\u001b[0m\n\u001b[0;32m   2636\u001b[0m \u001b[1;33m\u001b[0m\u001b[0m\n",
      "\u001b[1;31mFileNotFoundError\u001b[0m: [Errno 2] No such file or directory: 'C:/Users/khl36/Hackathon/imgdata/diamond/4.jpg'"
     ]
    }
   ],
   "source": [
    "import PIL.Image as pilimg\n",
    "import numpy as np\n",
    "\n",
    "a = pilimg.open(r'C:/Users/khl36/Hackathon/imgdata/diamond/4.jpg')\n",
    "ar = np.array(a)\n",
    "print(np.shape(ar))\n",
    "ar = ar[1:,1:]\n",
    "\n",
    "print(ar)\n",
    "\n",
    "def threshold(array):\n",
    "    \n",
    "    #16*16 data\n",
    "    data = np.zeros([16,16])\n",
    "    \n",
    "    #thtreshold\n",
    "    for i in range(16):\n",
    "        for j in range(16):\n",
    "            \n",
    "            print(array[i,j])\n",
    "            \n",
    "            if array[i,j]>=160:\n",
    "                data[i,j] = 0\n",
    "            \n",
    "            else:\n",
    "                data[i,j]=1\n",
    "                \n",
    "    return data\n",
    "                \n",
    "\n",
    "print(threshold(ar))\n",
    "            \n"
   ]
  },
  {
   "cell_type": "code",
   "execution_count": null,
   "metadata": {},
   "outputs": [],
   "source": [
    "import os\n",
    "from os.path import isfile, join\n",
    "import PIL.Image as pilimg\n",
    "import numpy as np\n",
    "\n",
    "def createFolder(directory):\n",
    "    try:\n",
    "        if not os.path.exists(directory):\n",
    "            os.makedirs(directory)\n",
    "            \n",
    "    except OSError:\n",
    "        print ('Error: Creating directory. ' +  directory)\n",
    "\n",
    "\n",
    "\n",
    "##path = directory path##\n",
    "class ImgToArr:    \n",
    "    def __init__(self,path,row,length):\n",
    "        \n",
    "        #parameter       \n",
    "        self.path= path\n",
    "        self.row = row\n",
    "        self.length = length\n",
    "    \n",
    "    def threshold(self,t,P=False):\n",
    "        \n",
    "        dummy = np.zeros([self.row,self.row])\n",
    "        self.output = []\n",
    "        \n",
    "         \n",
    "        if P== False:\n",
    "            \n",
    "            num = 0\n",
    "            target = []\n",
    "            \n",
    "            while num<self.length:\n",
    "                    \n",
    "                n = num+1\n",
    "                a = pilimg.open(self.path+str(n)+\".jpg\")\n",
    "                array = np.array(a)\n",
    "                array = array[:,:,0]\n",
    "        \n",
    "                \n",
    "                for i in range(self.row):\n",
    "                    for j in range(self.row):\n",
    "\n",
    "                        if array[i,j]>=128:\n",
    "                            dummy[i,j] = 0\n",
    "\n",
    "                        else:\n",
    "                            dummy[i,j]=1\n",
    "\n",
    "                self.output.append(dummy)\n",
    "                print(self.output)\n",
    "                target.append([t])\n",
    "                num = num+1\n",
    "                \n",
    "            data = np.stack(self.output,axis=0)\n",
    "            target = np.stack(target,axis = 0)\n",
    "        \n",
    "        return np.savez(\"Dataset\"+str(t)+\".npz\",data = data, target = target)\n",
    "        \n",
    "p='C:/Users/khl36/Hackathon/imgdata/diamond/'\n",
    "\n",
    "img = ImgToArr(p,16,2)\n",
    "test = img.threshold(1)\n",
    "\n",
    "                        \n",
    "                    \n",
    "                \n",
    "               \n",
    "                   \n",
    "                    \n",
    "                    \n",
    "                    \n",
    "                \n",
    "                \n",
    "        \n",
    "        "
   ]
  },
  {
   "cell_type": "code",
   "execution_count": 8,
   "metadata": {},
   "outputs": [
    {
     "name": "stdout",
     "output_type": "stream",
     "text": [
      "dd1ff\n"
     ]
    }
   ],
   "source": [
    "a = 'dd'+str(1)+'ff'\n",
    "print(a)"
   ]
  },
  {
   "cell_type": "code",
   "execution_count": null,
   "metadata": {},
   "outputs": [],
   "source": [
    "data = np.load('Dataset1.npz')\n",
    "print(data['data'])"
   ]
  },
  {
   "cell_type": "code",
   "execution_count": null,
   "metadata": {},
   "outputs": [],
   "source": []
  }
 ],
 "metadata": {
  "kernelspec": {
   "display_name": "Python 3",
   "language": "python",
   "name": "python3"
  },
  "language_info": {
   "codemirror_mode": {
    "name": "ipython",
    "version": 3
   },
   "file_extension": ".py",
   "mimetype": "text/x-python",
   "name": "python",
   "nbconvert_exporter": "python",
   "pygments_lexer": "ipython3",
   "version": "3.6.4"
  }
 },
 "nbformat": 4,
 "nbformat_minor": 2
}
